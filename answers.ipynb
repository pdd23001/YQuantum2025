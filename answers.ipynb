{
 "cells": [
  {
   "cell_type": "code",
   "execution_count": 6,
   "metadata": {},
   "outputs": [
    {
     "name": "stdout",
     "output_type": "stream",
     "text": [
      "Max key is:  1100101101100011011000011100\n",
      "Max key count is:  356\n"
     ]
    }
   ],
   "source": [
    "import bluequbit\n",
    "import qiskit\n",
    "import qiskit_aer\n",
    "\n",
    "\n",
    "# Define a simple quantum circuit using Qiskit\n",
    "from qiskit import QuantumCircuit, transpile\n",
    "from qiskit_aer import AerSimulator\n",
    "from qiskit.visualization import plot_histogram\n",
    "\n",
    "qc = QuantumCircuit.from_qasm_file('P2_swift_rise.qasm')\n",
    "qc.measure_all()\n",
    "\n",
    "qc.draw('mpl')\n",
    "\n",
    "device=AerSimulator()\n",
    "result=device.run(qc).result()\n",
    "counts=result.get_counts()\n",
    "max=0\n",
    "for i in counts:\n",
    "    if counts[i]>max:\n",
    "        max=counts[i]\n",
    "        max_key=i\n",
    "print(\"Max key is: \", max_key)\n",
    "print(\"Max key count is: \", max)\n",
    "\n",
    "#plot_histogram(counts)"
   ]
  },
  {
   "cell_type": "code",
   "execution_count": null,
   "metadata": {},
   "outputs": [],
   "source": [
    "#P3\n",
    "qc = QuantumCircuit.from_qasm_file('P3_swift_rise.qasm')\n",
    "qc.measure_all()\n",
    "\n",
    "qc.draw('mpl')\n",
    "\n",
    "device=AerSimulator()\n",
    "result=device.run(qc).result()\n",
    "counts=result.get_counts()\n",
    "max=0\n",
    "for i in counts:\n",
    "    if counts[i]>max:\n",
    "        max=counts[i]\n",
    "        max_key=i\n",
    "print(\"Max key is: \", max_key)\n",
    "print(\"Max key count is: \", max)"
   ]
  }
 ],
 "metadata": {
  "kernelspec": {
   "display_name": "yalehack",
   "language": "python",
   "name": "python3"
  },
  "language_info": {
   "codemirror_mode": {
    "name": "ipython",
    "version": 3
   },
   "file_extension": ".py",
   "mimetype": "text/x-python",
   "name": "python",
   "nbconvert_exporter": "python",
   "pygments_lexer": "ipython3",
   "version": "3.13.2"
  }
 },
 "nbformat": 4,
 "nbformat_minor": 2
}
