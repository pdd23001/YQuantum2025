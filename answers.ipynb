{
 "cells": [
  {
   "cell_type": "code",
   "execution_count": null,
   "metadata": {},
   "outputs": [
    {
     "name": "stdout",
     "output_type": "stream",
     "text": [
      "Max key is:  1100101101100011011000011100\n",
      "Max key count is:  356\n"
     ]
    }
   ],
   "source": [
    "import bluequbit\n",
    "import qiskit\n",
    "import qiskit_aer\n",
    "\n",
    "\n",
    "# Define a simple quantum circuit using Qiskit\n",
    "from qiskit import QuantumCircuit, transpile\n",
    "from qiskit_aer import AerSimulator\n",
    "from qiskit.visualization import plot_histogram\n",
    "\n",
    "qc_2 = QuantumCircuit.from_qasm_file('P2_swift_rise.qasm')\n",
    "qc_2.measure_all()\n",
    "\n",
    "qc_2.draw('mpl')\n",
    "\n",
    "device=AerSimulator()\n",
    "result=device.run(qc).result()\n",
    "counts=result.get_counts()\n",
    "max_1=0\n",
    "for i in counts:\n",
    "    if counts[i]>max_1:\n",
    "        max_1=counts[i]\n",
    "        max_key_1=i\n",
    "print(\"Max key is: \", max_key_1)\n",
    "print(\"Max key count is: \", max_1)\n",
    "\n",
    "#plot_histogram(counts)"
   ]
  },
  {
   "cell_type": "code",
   "execution_count": 8,
   "metadata": {},
   "outputs": [
    {
     "ename": "QiskitError",
     "evalue": "'ERROR:  [Experiment 0] Insufficient memory to run circuit circuit-167 using the statevector simulator. Required memory: 268435456M, max memory: 18432M ,  ERROR: Insufficient memory to run circuit circuit-167 using the statevector simulator. Required memory: 268435456M, max memory: 18432M'",
     "output_type": "error",
     "traceback": [
      "\u001b[31m---------------------------------------------------------------------------\u001b[39m",
      "\u001b[31mQiskitError\u001b[39m                               Traceback (most recent call last)",
      "\u001b[36mCell\u001b[39m\u001b[36m \u001b[39m\u001b[32mIn[8]\u001b[39m\u001b[32m, line 8\u001b[39m\n\u001b[32m      5\u001b[39m qc.draw(\u001b[33m'\u001b[39m\u001b[33mmpl\u001b[39m\u001b[33m'\u001b[39m)\n\u001b[32m      7\u001b[39m result=device.run(qc).result()\n\u001b[32m----> \u001b[39m\u001b[32m8\u001b[39m counts=\u001b[43mresult\u001b[49m\u001b[43m.\u001b[49m\u001b[43mget_counts\u001b[49m\u001b[43m(\u001b[49m\u001b[43m)\u001b[49m\n\u001b[32m      9\u001b[39m max_2=\u001b[32m0\u001b[39m\n\u001b[32m     10\u001b[39m \u001b[38;5;28;01mfor\u001b[39;00m i \u001b[38;5;129;01min\u001b[39;00m counts:\n",
      "\u001b[36mFile \u001b[39m\u001b[32m~/Downloads/YQuantum2025/yalehack/lib/python3.13/site-packages/qiskit/result/result.py:256\u001b[39m, in \u001b[36mResult.get_counts\u001b[39m\u001b[34m(self, experiment)\u001b[39m\n\u001b[32m    254\u001b[39m dict_list = []\n\u001b[32m    255\u001b[39m \u001b[38;5;28;01mfor\u001b[39;00m key \u001b[38;5;129;01min\u001b[39;00m exp_keys:\n\u001b[32m--> \u001b[39m\u001b[32m256\u001b[39m     exp = \u001b[38;5;28;43mself\u001b[39;49m\u001b[43m.\u001b[49m\u001b[43m_get_experiment\u001b[49m\u001b[43m(\u001b[49m\u001b[43mkey\u001b[49m\u001b[43m)\u001b[49m\n\u001b[32m    257\u001b[39m     \u001b[38;5;28;01mtry\u001b[39;00m:\n\u001b[32m    258\u001b[39m         header = exp.header\n",
      "\u001b[36mFile \u001b[39m\u001b[32m~/Downloads/YQuantum2025/yalehack/lib/python3.13/site-packages/qiskit/result/result.py:385\u001b[39m, in \u001b[36mResult._get_experiment\u001b[39m\u001b[34m(self, key)\u001b[39m\n\u001b[32m    383\u001b[39m result_status = \u001b[38;5;28mgetattr\u001b[39m(\u001b[38;5;28mself\u001b[39m, \u001b[33m\"\u001b[39m\u001b[33mstatus\u001b[39m\u001b[33m\"\u001b[39m, \u001b[33m\"\u001b[39m\u001b[33mResult was not successful\u001b[39m\u001b[33m\"\u001b[39m)\n\u001b[32m    384\u001b[39m exp_status = \u001b[38;5;28mgetattr\u001b[39m(exp, \u001b[33m\"\u001b[39m\u001b[33mstatus\u001b[39m\u001b[33m\"\u001b[39m, \u001b[33m\"\u001b[39m\u001b[33mExperiment was not successful\u001b[39m\u001b[33m\"\u001b[39m)\n\u001b[32m--> \u001b[39m\u001b[32m385\u001b[39m \u001b[38;5;28;01mraise\u001b[39;00m QiskitError(result_status, \u001b[33m\"\u001b[39m\u001b[33m, \u001b[39m\u001b[33m\"\u001b[39m, exp_status)\n",
      "\u001b[31mQiskitError\u001b[39m: 'ERROR:  [Experiment 0] Insufficient memory to run circuit circuit-167 using the statevector simulator. Required memory: 268435456M, max memory: 18432M ,  ERROR: Insufficient memory to run circuit circuit-167 using the statevector simulator. Required memory: 268435456M, max memory: 18432M'"
     ]
    }
   ],
   "source": [
    "#P3\n",
    "qc = QuantumCircuit.from_qasm_file('P3__sharp_peak.qasm')\n",
    "qc.measure_all()\n",
    "\n",
    "qc.draw('mpl')\n",
    "\n",
    "result=device.run(qc).result()\n",
    "counts=result.get_counts()\n",
    "max_2=0\n",
    "for i in counts:\n",
    "    if counts[i]>max:\n",
    "        max_2=counts[i]\n",
    "        max_key_2=i\n",
    "print(\"Max key is: \", max_key_2)\n",
    "print(\"Max key count is: \", max_2)"
   ]
  },
  {
   "cell_type": "code",
   "execution_count": null,
   "metadata": {},
   "outputs": [
    {
     "ename": "",
     "evalue": "",
     "output_type": "error",
     "traceback": [
      "\u001b[1;31mThe kernel failed to start as the Python Environment 'yalehack (Python 3.13.2)' is no longer available. Consider selecting another kernel or refreshing the list of Python Environments."
     ]
    }
   ],
   "source": [
    "qc_3 = QuantumCircuit.from_qasm_file('P3__sharp_peak.qasm')"
   ]
  }
 ],
 "metadata": {
  "kernelspec": {
   "display_name": "yalehack",
   "language": "python",
   "name": "python3"
  },
  "language_info": {
   "codemirror_mode": {
    "name": "ipython",
    "version": 3
   },
   "file_extension": ".py",
   "mimetype": "text/x-python",
   "name": "python",
   "nbconvert_exporter": "python",
   "pygments_lexer": "ipython3",
   "version": "3.13.2"
  }
 },
 "nbformat": 4,
 "nbformat_minor": 2
}
