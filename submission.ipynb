{
 "cells": [
  {
   "cell_type": "markdown",
   "metadata": {},
   "source": [
    "Required Imports: "
   ]
  },
  {
   "cell_type": "code",
   "execution_count": 8,
   "metadata": {},
   "outputs": [],
   "source": [
    "import bluequbit                   # Library for interfacing with Bluequbit's quantum hardware and simulators\n",
    "from qiskit import QuantumCircuit  # IBM-Qiskit Library for interperting quantum circuits\n",
    "import numpy as np              "
   ]
  },
  {
   "cell_type": "markdown",
   "metadata": {},
   "source": [
    "Loading the Quantum Circuit from the QASM file\n",
    "'P1_little_peak.qasm' is a file containing a valid quantum circuit described in the OpenQASM format."
   ]
  },
  {
   "cell_type": "code",
   "execution_count": 15,
   "metadata": {},
   "outputs": [
    {
     "name": "stderr",
     "output_type": "stream",
     "text": [
      "\u001b[36m[BQ-PYTHON-SDK]\u001b[0m[\u001b[33mWARNING\u001b[0m] - Beta version 0.12.0b1 of BlueQubit Python SDK is being used.\u001b[0m\n"
     ]
    },
    {
     "ename": "BQUnauthorizedAccessError",
     "evalue": "BlueQubit client was not authorized. For full functionality please specify an API token to init(<your-api-token>) or have API token set in BLUEQUBIT_API_TOKEN environment variable. You can find your API token once you log in to https://app.bluequbit.io. Request ID: 8c19ccf9-b112-492c-a39e-b3d508965efa",
     "output_type": "error",
     "traceback": [
      "\u001b[31m---------------------------------------------------------------------------\u001b[39m",
      "\u001b[31mBQUnauthorizedAccessError\u001b[39m                 Traceback (most recent call last)",
      "\u001b[36mCell\u001b[39m\u001b[36m \u001b[39m\u001b[32mIn[15]\u001b[39m\u001b[32m, line 3\u001b[39m\n\u001b[32m      1\u001b[39m qc = QuantumCircuit.from_qasm_file(\u001b[33m'\u001b[39m\u001b[33mP1_little_peak.qasm\u001b[39m\u001b[33m'\u001b[39m)      \u001b[38;5;66;03m# Creating Quantum Circuit from QASM file\u001b[39;00m\n\u001b[32m      2\u001b[39m qc.measure_all()                                              \u001b[38;5;66;03m# Adding measurement gates to all qubits\u001b[39;00m\n\u001b[32m----> \u001b[39m\u001b[32m3\u001b[39m bq = \u001b[43mbluequbit\u001b[49m\u001b[43m.\u001b[49m\u001b[43minit\u001b[49m\u001b[43m(\u001b[49m\u001b[33;43m\"\u001b[39;49m\u001b[33;43m<token>\u001b[39;49m\u001b[33;43m\"\u001b[39;49m\u001b[43m)\u001b[49m                                 \u001b[38;5;66;03m# Intializing BQClient with API token (We have not revealed our API keys\u001b[39;00m\n\u001b[32m      4\u001b[39m shots = \u001b[32m100\u001b[39m                                                    \u001b[38;5;66;03m# Number of shots. This paramter can be varied here. 100 shots is enough for this 4 qubit circuit.\u001b[39;00m\n\u001b[32m      5\u001b[39m result = bq.run(qc, device=\u001b[33m'\u001b[39m\u001b[33mcpu\u001b[39m\u001b[33m'\u001b[39m, shots = shots)               \u001b[38;5;66;03m# Running the circuit on the cpu simulator of Blue Qubit\u001b[39;00m\n",
      "\u001b[36mFile \u001b[39m\u001b[32m~/Downloads/YQuantum2025/YQuantum2025/yalehack/lib/python3.13/site-packages/bluequbit/__init__.py:48\u001b[39m, in \u001b[36minit\u001b[39m\u001b[34m(api_token, execution_mode)\u001b[39m\n\u001b[32m     38\u001b[39m \u001b[38;5;28;01mdef\u001b[39;00m\u001b[38;5;250m \u001b[39m\u001b[34minit\u001b[39m(api_token: \u001b[38;5;28mstr\u001b[39m | \u001b[38;5;28;01mNone\u001b[39;00m = \u001b[38;5;28;01mNone\u001b[39;00m, execution_mode: \u001b[38;5;28mstr\u001b[39m | \u001b[38;5;28;01mNone\u001b[39;00m = \u001b[38;5;28;01mNone\u001b[39;00m) -> BQClient:\n\u001b[32m     39\u001b[39m \u001b[38;5;250m    \u001b[39m\u001b[33;03m\"\"\"Returns :class:`BQClient` instance for managing jobs on BlueQubit platform.\u001b[39;00m\n\u001b[32m     40\u001b[39m \n\u001b[32m     41\u001b[39m \u001b[33;03m    :param api_token: API token of the user. If ``None``, the token will be looked\u001b[39;00m\n\u001b[32m   (...)\u001b[39m\u001b[32m     46\u001b[39m \u001b[33;03m                           ``\"cloud\"`` will be used.\u001b[39;00m\n\u001b[32m     47\u001b[39m \u001b[33;03m    \"\"\"\u001b[39;00m\n\u001b[32m---> \u001b[39m\u001b[32m48\u001b[39m     \u001b[38;5;28;01mreturn\u001b[39;00m \u001b[43mBQClient\u001b[49m\u001b[43m(\u001b[49m\u001b[43mapi_token\u001b[49m\u001b[43m,\u001b[49m\u001b[43m \u001b[49m\u001b[43mexecution_mode\u001b[49m\u001b[43m)\u001b[49m\n",
      "\u001b[36mFile \u001b[39m\u001b[32m~/Downloads/YQuantum2025/YQuantum2025/yalehack/lib/python3.13/site-packages/bluequbit/bluequbit_client.py:131\u001b[39m, in \u001b[36mBQClient.__init__\u001b[39m\u001b[34m(self, api_token, execution_mode)\u001b[39m\n\u001b[32m    128\u001b[39m \u001b[38;5;28;01mif\u001b[39;00m \u001b[38;5;28mself\u001b[39m.execution_mode \u001b[38;5;129;01mnot\u001b[39;00m \u001b[38;5;129;01min\u001b[39;00m [\u001b[33m\"\u001b[39m\u001b[33mcloud\u001b[39m\u001b[33m\"\u001b[39m, \u001b[33m\"\u001b[39m\u001b[33mlocal\u001b[39m\u001b[33m\"\u001b[39m]:\n\u001b[32m    129\u001b[39m     \u001b[38;5;28;01mraise\u001b[39;00m \u001b[38;5;167;01mValueError\u001b[39;00m(\u001b[33mf\u001b[39m\u001b[33m\"\u001b[39m\u001b[33mInvalid execution mode: \u001b[39m\u001b[38;5;132;01m{\u001b[39;00m\u001b[38;5;28mself\u001b[39m.execution_mode\u001b[38;5;132;01m}\u001b[39;00m\u001b[33m\"\u001b[39m)\n\u001b[32m--> \u001b[39m\u001b[32m131\u001b[39m \u001b[38;5;28mself\u001b[39m._backend_connection = \u001b[43mBackendConnection\u001b[49m\u001b[43m(\u001b[49m\u001b[43mapi_token\u001b[49m\u001b[43m)\u001b[49m\n\u001b[32m    133\u001b[39m \u001b[38;5;28mself\u001b[39m.job_name_prefix: \u001b[38;5;28mstr\u001b[39m | \u001b[38;5;28;01mNone\u001b[39;00m = BQClient._job_name_prefix_cls\n",
      "\u001b[36mFile \u001b[39m\u001b[32m~/Downloads/YQuantum2025/YQuantum2025/yalehack/lib/python3.13/site-packages/bluequbit/backend_connection.py:64\u001b[39m, in \u001b[36mBackendConnection.__init__\u001b[39m\u001b[34m(self, api_token)\u001b[39m\n\u001b[32m     62\u001b[39m \u001b[38;5;28mself\u001b[39m._session = \u001b[38;5;28;01mNone\u001b[39;00m\n\u001b[32m     63\u001b[39m \u001b[38;5;28mself\u001b[39m._num_requests = defaultdict(\u001b[38;5;28mint\u001b[39m)\n\u001b[32m---> \u001b[39m\u001b[32m64\u001b[39m \u001b[38;5;28;43mself\u001b[39;49m\u001b[43m.\u001b[49m\u001b[43msend_request\u001b[49m\u001b[43m(\u001b[49m\n\u001b[32m     65\u001b[39m \u001b[43m    \u001b[49m\u001b[43mreq_type\u001b[49m\u001b[43m=\u001b[49m\u001b[33;43m\"\u001b[39;49m\u001b[33;43mGET\u001b[39;49m\u001b[33;43m\"\u001b[39;49m\u001b[43m,\u001b[49m\n\u001b[32m     66\u001b[39m \u001b[43m    \u001b[49m\u001b[43mpath\u001b[49m\u001b[43m=\u001b[49m\u001b[33;43m\"\u001b[39;49m\u001b[33;43m/jobs\u001b[39;49m\u001b[33;43m\"\u001b[39;49m\u001b[43m,\u001b[49m\n\u001b[32m     67\u001b[39m \u001b[43m    \u001b[49m\u001b[43mparams\u001b[49m\u001b[43m=\u001b[49m\u001b[43m{\u001b[49m\u001b[33;43m\"\u001b[39;49m\u001b[33;43mlimit\u001b[39;49m\u001b[33;43m\"\u001b[39;49m\u001b[43m:\u001b[49m\u001b[43m \u001b[49m\u001b[32;43m1\u001b[39;49m\u001b[43m}\u001b[49m\u001b[43m,\u001b[49m\n\u001b[32m     68\u001b[39m \u001b[43m\u001b[49m\u001b[43m)\u001b[49m\n",
      "\u001b[36mFile \u001b[39m\u001b[32m~/Downloads/YQuantum2025/YQuantum2025/yalehack/lib/python3.13/site-packages/bluequbit/backend_connection.py:95\u001b[39m, in \u001b[36mBackendConnection.send_request\u001b[39m\u001b[34m(self, req_type, path, params, data, json_req, headers)\u001b[39m\n\u001b[32m     93\u001b[39m headers_to_send[\u001b[33m\"\u001b[39m\u001b[33mX-Request-ID\u001b[39m\u001b[33m\"\u001b[39m] = request_id\n\u001b[32m     94\u001b[39m \u001b[38;5;28mself\u001b[39m._num_requests[req_type] += \u001b[32m1\u001b[39m\n\u001b[32m---> \u001b[39m\u001b[32m95\u001b[39m \u001b[38;5;28;01mreturn\u001b[39;00m \u001b[43mrequest_retriable\u001b[49m\u001b[43m(\u001b[49m\n\u001b[32m     96\u001b[39m \u001b[43m    \u001b[49m\u001b[43mmethod\u001b[49m\u001b[43m=\u001b[49m\u001b[43mreq_type\u001b[49m\u001b[43m,\u001b[49m\n\u001b[32m     97\u001b[39m \u001b[43m    \u001b[49m\u001b[43murl\u001b[49m\u001b[43m=\u001b[49m\u001b[43murl\u001b[49m\u001b[43m,\u001b[49m\n\u001b[32m     98\u001b[39m \u001b[43m    \u001b[49m\u001b[43mdata\u001b[49m\u001b[43m=\u001b[49m\u001b[43mdata\u001b[49m\u001b[43m,\u001b[49m\n\u001b[32m     99\u001b[39m \u001b[43m    \u001b[49m\u001b[43mjson\u001b[49m\u001b[43m=\u001b[49m\u001b[43mjson_req\u001b[49m\u001b[43m,\u001b[49m\n\u001b[32m    100\u001b[39m \u001b[43m    \u001b[49m\u001b[43mparams\u001b[49m\u001b[43m=\u001b[49m\u001b[43mparams\u001b[49m\u001b[43m,\u001b[49m\n\u001b[32m    101\u001b[39m \u001b[43m    \u001b[49m\u001b[43mheaders\u001b[49m\u001b[43m=\u001b[49m\u001b[43mheaders_to_send\u001b[49m\u001b[43m,\u001b[49m\n\u001b[32m    102\u001b[39m \u001b[43m\u001b[49m\u001b[43m)\u001b[49m\n",
      "\u001b[36mFile \u001b[39m\u001b[32m~/Downloads/YQuantum2025/YQuantum2025/yalehack/lib/python3.13/site-packages/bluequbit/http_utils.py:77\u001b[39m, in \u001b[36mrequest_retriable\u001b[39m\u001b[34m(method, url, **kwargs)\u001b[39m\n\u001b[32m     74\u001b[39m         \u001b[38;5;28;01mraise\u001b[39;00m\n\u001b[32m     76\u001b[39m \u001b[38;5;28;01mtry\u001b[39;00m:\n\u001b[32m---> \u001b[39m\u001b[32m77\u001b[39m     \u001b[38;5;28;01mreturn\u001b[39;00m \u001b[43m_send\u001b[49m\u001b[43m(\u001b[49m\u001b[43m)\u001b[49m\n\u001b[32m     78\u001b[39m \u001b[38;5;28;01mexcept\u001b[39;00m \u001b[38;5;167;01mException\u001b[39;00m \u001b[38;5;28;01mas\u001b[39;00m e:\n\u001b[32m     79\u001b[39m     \u001b[38;5;28;01mif\u001b[39;00m \u001b[38;5;28misinstance\u001b[39m(e, BQUnauthorizedAccessError):\n",
      "\u001b[36mFile \u001b[39m\u001b[32m~/Downloads/YQuantum2025/YQuantum2025/yalehack/lib/python3.13/site-packages/bluequbit/http_utils.py:50\u001b[39m, in \u001b[36mrequest_retriable.<locals>._send\u001b[39m\u001b[34m()\u001b[39m\n\u001b[32m     48\u001b[39m         \u001b[38;5;28;01mreturn\u001b[39;00m _send()\n\u001b[32m     49\u001b[39m     \u001b[38;5;28;01mif\u001b[39;00m resp.status_code == \u001b[32m401\u001b[39m:\n\u001b[32m---> \u001b[39m\u001b[32m50\u001b[39m         \u001b[38;5;28;01mraise\u001b[39;00m BQUnauthorizedAccessError(\n\u001b[32m     51\u001b[39m             kwargs.get(\u001b[33m\"\u001b[39m\u001b[33mheaders\u001b[39m\u001b[33m\"\u001b[39m, {}).get(\u001b[33m\"\u001b[39m\u001b[33mX-Request-ID\u001b[39m\u001b[33m\"\u001b[39m, \u001b[33m\"\u001b[39m\u001b[33m\"\u001b[39m)\n\u001b[32m     52\u001b[39m         )\n\u001b[32m     53\u001b[39m     resp.raise_for_status()\n\u001b[32m     54\u001b[39m \u001b[38;5;28;01mexcept\u001b[39;00m requests.ConnectTimeout \u001b[38;5;28;01mas\u001b[39;00m e:\n",
      "\u001b[31mBQUnauthorizedAccessError\u001b[39m: BlueQubit client was not authorized. For full functionality please specify an API token to init(<your-api-token>) or have API token set in BLUEQUBIT_API_TOKEN environment variable. You can find your API token once you log in to https://app.bluequbit.io. Request ID: 8c19ccf9-b112-492c-a39e-b3d508965efa"
     ]
    }
   ],
   "source": [
    "qc = QuantumCircuit.from_qasm_file('P1_little_peak.qasm')      # Creating Quantum Circuit from QASM file\n",
    "qc.measure_all()                                               # Adding measurement gates to all qubits\n",
    "bq = bluequbit.init(\"<token>\")                                 # Intializing BQClient with API token (We have not revealed our API keys\n",
    "shots = 100                                                    # Number of shots. This paramter can be varied here. 100 shots is enough for this 4 qubit circuit.\n",
    "result = bq.run(qc, device='cpu', shots = shots)               # Running the circuit on the cpu simulator of Blue Qubit"
   ]
  },
  {
   "cell_type": "markdown",
   "metadata": {},
   "source": [
    "Classical Post-Processing"
   ]
  },
  {
   "cell_type": "code",
   "execution_count": 14,
   "metadata": {},
   "outputs": [
    {
     "name": "stdout",
     "output_type": "stream",
     "text": [
      "Peaked Bitstring :  1001\n",
      "Frequency : 69\n",
      "Total Shots : 100\n",
      "Peaked Amplitude : 0.8306623862918074\n"
     ]
    }
   ],
   "source": [
    "# Retrieve measurement counts from the quantum execution results.\n",
    "# 'counts' is a dictionary mapping bitstrings (as strings) to the frequency\n",
    "counts = result.get_counts()\n",
    "\n",
    "# Initializing variables to track the bitstring with the highest count.\n",
    "peaked_counts = 0           # Store the maximum frequency found so far.\n",
    "peaked_bitstring = None     # Store the corresponding bitstring.\n",
    "\n",
    "# Iterating over each bitstring present in the measurement counts and updating variables accordingly.\n",
    "for bitstring in counts:\n",
    "   if counts[bitstring] > peaked_counts:\n",
    "        peaked_counts = counts[bitstring]\n",
    "        peaked_bitstring=bitstring\n",
    "\n",
    "# Outputting the results:\n",
    "# - The bitstring with the highest frequency.\n",
    "# - Its frequency (i.e., how many times it was measured).\n",
    "# - The total number of shots (the total number of circuit executions),\n",
    "#   assumed to be stored in the variable 'shots'.\n",
    "# - The \"peaked amplitude\" computed as the square root of the ratio between the\n",
    "#   highest frequency and the total shots.\n",
    "print(\"Peaked Bitstring : \", peaked_bitstring)\n",
    "print(\"Frequency :\", peaked_counts)\n",
    "print(\"Total Shots :\", shots)\n",
    "print(\"Peaked Amplitude :\", np.sqrt(peaked_counts/shots))"
   ]
  }
 ],
 "metadata": {
  "kernelspec": {
   "display_name": "yalehack",
   "language": "python",
   "name": "python3"
  },
  "language_info": {
   "codemirror_mode": {
    "name": "ipython",
    "version": 3
   },
   "file_extension": ".py",
   "mimetype": "text/x-python",
   "name": "python",
   "nbconvert_exporter": "python",
   "pygments_lexer": "ipython3",
   "version": "3.13.2"
  }
 },
 "nbformat": 4,
 "nbformat_minor": 2
}
