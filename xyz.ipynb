{
 "cells": [
  {
   "cell_type": "code",
   "execution_count": 6,
   "metadata": {},
   "outputs": [],
   "source": [
    "import bluequbit\n",
    "from qiskit import QuantumCircuit, transpile\n",
    "# Initialize Blue Qubit with your API key.\n",
    "\n",
    "qc=QuantumCircuit.from_qasm_file('P4_golden_mountain.qasm')"
   ]
  },
  {
   "cell_type": "code",
   "execution_count": 2,
   "metadata": {},
   "outputs": [
    {
     "name": "stderr",
     "output_type": "stream",
     "text": [
      "\u001b[36m[BQ-PYTHON-SDK]\u001b[0m[\u001b[33mWARNING\u001b[0m] - Beta version 0.12.0b1 of BlueQubit Python SDK is being used.\u001b[0m\n"
     ]
    }
   ],
   "source": [
    "bq = bluequbit.init(\"tbtC35WEFeL9IXYkJoeUgFIoQzYu8lQQ\")"
   ]
  },
  {
   "cell_type": "code",
   "execution_count": 8,
   "metadata": {},
   "outputs": [
    {
     "ename": "BQJobNotCompleteError",
     "evalue": "Job 8b3fwzcvOBlPXFCN finished with status: FAILED_VALIDATION. The number of two-qubit gates is too big for mps.cpu (maximum 1000). See https://app.bluequbit.io/docs for more details.",
     "output_type": "error",
     "traceback": [
      "\u001b[31m---------------------------------------------------------------------------\u001b[39m",
      "\u001b[31mBQJobNotCompleteError\u001b[39m                     Traceback (most recent call last)",
      "\u001b[36mCell\u001b[39m\u001b[36m \u001b[39m\u001b[32mIn[8]\u001b[39m\u001b[32m, line 6\u001b[39m\n\u001b[32m      1\u001b[39m options={\n\u001b[32m      2\u001b[39m     \u001b[33m\"\u001b[39m\u001b[33mmps_bond_dimension\u001b[39m\u001b[33m\"\u001b[39m: \u001b[32m128\u001b[39m,\n\u001b[32m      3\u001b[39m     \u001b[33m\"\u001b[39m\u001b[33mmps_truncation_threshold\u001b[39m\u001b[33m\"\u001b[39m: \u001b[32m1e-6\u001b[39m\n\u001b[32m      4\u001b[39m }\n\u001b[32m      5\u001b[39m qc=transpile(qc,optimization_level=\u001b[32m3\u001b[39m)\n\u001b[32m----> \u001b[39m\u001b[32m6\u001b[39m result = \u001b[43mbq\u001b[49m\u001b[43m.\u001b[49m\u001b[43mrun\u001b[49m\u001b[43m(\u001b[49m\u001b[43mqc\u001b[49m\u001b[43m,\u001b[49m\u001b[43m \u001b[49m\u001b[43mdevice\u001b[49m\u001b[43m=\u001b[49m\u001b[33;43m'\u001b[39;49m\u001b[33;43mmps.cpu\u001b[39;49m\u001b[33;43m'\u001b[39;49m\u001b[43m,\u001b[49m\u001b[43m \u001b[49m\u001b[43mshots\u001b[49m\u001b[43m=\u001b[49m\u001b[32;43m10000\u001b[39;49m\u001b[43m,\u001b[49m\u001b[43m \u001b[49m\u001b[43moptions\u001b[49m\u001b[43m=\u001b[49m\u001b[43moptions\u001b[49m\u001b[43m)\u001b[49m \n\u001b[32m      7\u001b[39m counts=result.get_counts()\n\u001b[32m      9\u001b[39m \u001b[38;5;66;03m# Run the circuit using the MPS backend.\u001b[39;00m\n",
      "\u001b[36mFile \u001b[39m\u001b[32m~/Downloads/YQuantum2025/YQuantum2025/yalehack/lib/python3.13/site-packages/bluequbit/bluequbit_client.py:295\u001b[39m, in \u001b[36mBQClient.run\u001b[39m\u001b[34m(self, circuits, device, asynchronous, job_name, shots, pauli_sum, options)\u001b[39m\n\u001b[32m    290\u001b[39m submitted_job = JobResult(response, \u001b[38;5;28mself\u001b[39m._backend_connection)\n\u001b[32m    291\u001b[39m \u001b[38;5;28;01mif\u001b[39;00m (\n\u001b[32m    292\u001b[39m     submitted_job.run_status\n\u001b[32m    293\u001b[39m     \u001b[38;5;129;01min\u001b[39;00m job_metadata_constants.JOB_NO_RESULT_TERMINAL_STATES\n\u001b[32m    294\u001b[39m ):\n\u001b[32m--> \u001b[39m\u001b[32m295\u001b[39m     \u001b[38;5;28;01mraise\u001b[39;00m BQJobNotCompleteError(\n\u001b[32m    296\u001b[39m         submitted_job.job_id,\n\u001b[32m    297\u001b[39m         submitted_job.run_status,\n\u001b[32m    298\u001b[39m         submitted_job.error_message,\n\u001b[32m    299\u001b[39m     )\n\u001b[32m    300\u001b[39m logger.info(\u001b[33m\"\u001b[39m\u001b[33mSubmitted: \u001b[39m\u001b[38;5;132;01m%s\u001b[39;00m\u001b[33m\"\u001b[39m, submitted_job)\n\u001b[32m    301\u001b[39m \u001b[38;5;28;01mif\u001b[39;00m (\n\u001b[32m    302\u001b[39m     \u001b[38;5;129;01mnot\u001b[39;00m asynchronous\n\u001b[32m    303\u001b[39m     \u001b[38;5;129;01mand\u001b[39;00m submitted_job.run_status\n\u001b[32m    304\u001b[39m     \u001b[38;5;129;01mnot\u001b[39;00m \u001b[38;5;129;01min\u001b[39;00m job_metadata_constants.JOB_TERMINAL_STATES\n\u001b[32m    305\u001b[39m ):\n",
      "\u001b[31mBQJobNotCompleteError\u001b[39m: Job 8b3fwzcvOBlPXFCN finished with status: FAILED_VALIDATION. The number of two-qubit gates is too big for mps.cpu (maximum 1000). See https://app.bluequbit.io/docs for more details."
     ]
    }
   ],
   "source": [
    "\n",
    "options={\n",
    "    \"mps_bond_dimension\": 128,\n",
    "    \"mps_truncation_threshold\": 1e-6\n",
    "}\n",
    "qc=transpile(qc,optimization_level=3)\n",
    "result = bq.run(qc, device='mps.cpu', shots=10000, options=options) \n",
    "counts=result.get_counts()\n",
    "\n",
    "# Run the circuit using the MPS backend.\n",
    "result = bq.run(qc, 'mps.cpu', options=options)"
   ]
  }
 ],
 "metadata": {
  "kernelspec": {
   "display_name": "yalehack",
   "language": "python",
   "name": "python3"
  },
  "language_info": {
   "codemirror_mode": {
    "name": "ipython",
    "version": 3
   },
   "file_extension": ".py",
   "mimetype": "text/x-python",
   "name": "python",
   "nbconvert_exporter": "python",
   "pygments_lexer": "ipython3",
   "version": "3.13.2"
  }
 },
 "nbformat": 4,
 "nbformat_minor": 2
}
