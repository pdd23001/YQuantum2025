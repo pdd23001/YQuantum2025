{
 "cells": [
  {
   "cell_type": "markdown",
   "metadata": {},
   "source": [
    "# Problem - 4: MPS Simulation"
   ]
  },
  {
   "cell_type": "markdown",
   "metadata": {},
   "source": [
    "BlueQubit SDK - Did not work becuse couldn't handle more than 1000 two qubit gates"
   ]
  },
  {
   "cell_type": "code",
   "execution_count": null,
   "metadata": {},
   "outputs": [],
   "source": [
    "import bluequbit\n",
    "from qiskit import QuantumCircuit, transpile\n",
    "\n",
    "qc=QuantumCircuit.from_qasm_file('P4_golden_mountain.qasm')"
   ]
  },
  {
   "cell_type": "code",
   "execution_count": null,
   "metadata": {},
   "outputs": [],
   "source": [
    "bq = bluequbit.init(\"Your API Key\")"
   ]
  },
  {
   "cell_type": "code",
   "execution_count": null,
   "metadata": {},
   "outputs": [],
   "source": [
    "options={\n",
    "    \"mps_bond_dimension\": 128,\n",
    "    \"mps_truncation_threshold\": 1e-6\n",
    "}\n",
    "qc=transpile(qc,optimization_level=3)\n",
    "result = bq.run(qc, device='mps.cpu', shots=10000, options=options) \n",
    "counts=result.get_counts()\n",
    "\n",
    "# Run the circuit using the MPS backend.\n",
    "result = bq.run(qc, 'mps.cpu', options=options)"
   ]
  },
  {
   "cell_type": "markdown",
   "metadata": {},
   "source": [
    "Qiskit Aer Simulator (However we could not converge to a solution using this method)"
   ]
  },
  {
   "cell_type": "code",
   "execution_count": null,
   "metadata": {},
   "outputs": [],
   "source": [
    "from qiskit_aer import AerSimulator\n",
    "from qiskit import QuantumCircuit"
   ]
  },
  {
   "cell_type": "code",
   "execution_count": null,
   "metadata": {},
   "outputs": [],
   "source": [
    "simulator = AerSimulator(method=\"matrix_product_state\",\n",
    "                         matrix_product_state_max_bond_dimension=128, shots=10000, matrix_product_state_truncation_threshold=1e-16)\n",
    "\n",
    "result = simulator.run(qc).result()"
   ]
  },
  {
   "cell_type": "markdown",
   "metadata": {},
   "source": [
    "Doing classical preprocessing now in order to extract solution"
   ]
  },
  {
   "cell_type": "code",
   "execution_count": null,
   "metadata": {},
   "outputs": [],
   "source": [
    "counts = result.get_counts(qc)"
   ]
  },
  {
   "cell_type": "code",
   "execution_count": null,
   "metadata": {},
   "outputs": [],
   "source": [
    "max=0\n",
    "for i in counts:\n",
    "    if counts[i]>max:\n",
    "        max=counts[i]\n",
    "        max_key=i\n",
    "        \n",
    "print(\"Max key: \", max_key)\n",
    "print(\"Count:\", max)\n",
    "\n",
    "ctr=0\n",
    "for i in counts:\n",
    "    if counts[i]==max:\n",
    "        ctr+=1\n",
    "print(ctr)"
   ]
  }
 ],
 "metadata": {
  "kernelspec": {
   "display_name": "yalehack",
   "language": "python",
   "name": "python3"
  },
  "language_info": {
   "name": "python",
   "version": "3.13.2"
  }
 },
 "nbformat": 4,
 "nbformat_minor": 2
}
