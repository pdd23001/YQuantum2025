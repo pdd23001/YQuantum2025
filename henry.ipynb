{
 "cells": [
  {
   "cell_type": "code",
   "execution_count": 5,
   "metadata": {},
   "outputs": [
    {
     "ename": "ImportError",
     "evalue": "cannot import name 'AerSimulator' from 'qiskit.converters' (/Users/parthdanve/Downloads/YQuantum2025/YQuantum2025/yalehack/lib/python3.13/site-packages/qiskit/converters/__init__.py)",
     "output_type": "error",
     "traceback": [
      "\u001b[31m---------------------------------------------------------------------------\u001b[39m",
      "\u001b[31mImportError\u001b[39m                               Traceback (most recent call last)",
      "\u001b[36mCell\u001b[39m\u001b[36m \u001b[39m\u001b[32mIn[5]\u001b[39m\u001b[32m, line 2\u001b[39m\n\u001b[32m      1\u001b[39m \u001b[38;5;28;01mfrom\u001b[39;00m\u001b[38;5;250m \u001b[39m\u001b[34;01mqiskit\u001b[39;00m\u001b[38;5;250m \u001b[39m\u001b[38;5;28;01mimport\u001b[39;00m QuantumCircuit, transpile\n\u001b[32m----> \u001b[39m\u001b[32m2\u001b[39m \u001b[38;5;28;01mfrom\u001b[39;00m\u001b[38;5;250m \u001b[39m\u001b[34;01mqiskit\u001b[39;00m\u001b[34;01m.\u001b[39;00m\u001b[34;01mconverters\u001b[39;00m\u001b[38;5;250m \u001b[39m\u001b[38;5;28;01mimport\u001b[39;00m circuit_to_dag, dag_to_circuit, AerSimulator\n\u001b[32m      4\u001b[39m qc4 =  QuantumCircuit.from_qasm_file(\u001b[33m'\u001b[39m\u001b[33mP4_golden_mountain.qasm\u001b[39m\u001b[33m'\u001b[39m)\n\u001b[32m      6\u001b[39m \u001b[38;5;66;03m#Convert to DAG to access layers\u001b[39;00m\n",
      "\u001b[31mImportError\u001b[39m: cannot import name 'AerSimulator' from 'qiskit.converters' (/Users/parthdanve/Downloads/YQuantum2025/YQuantum2025/yalehack/lib/python3.13/site-packages/qiskit/converters/__init__.py)"
     ]
    }
   ],
   "source": [
    "from qiskit import QuantumCircuit, transpile\n",
    "from qiskit.converters import circuit_to_dag, dag_to_circuit, AerSimulator\n",
    "\n",
    "qc4 =  QuantumCircuit.from_qasm_file('P4_golden_mountain.qasm')\n",
    "\n",
    "#Convert to DAG to access layers\n",
    "dag = circuit_to_dag(qc4)\n",
    "\n",
    "#Get the layers (each is a dict with 'graph' key)\n",
    "layers = list(dag.layers())\n",
    "\n",
    "#Compute split point based on number of layers\n",
    "split_point = len(layers) // 6\n",
    "\n",
    "#Create new DAGs for each half\n",
    "dag1 = dag.__class__()\n",
    "dag2 = dag.__class__()\n",
    "\n",
    "#Add same registers to new DAGs\n",
    "for qreg in dag.qregs.values():\n",
    "    dag1.add_qreg(qreg)\n",
    "    dag2.add_qreg(qreg)\n",
    "for creg in dag.cregs.values():\n",
    "    dag1.add_creg(creg)\n",
    "    dag2.add_creg(creg)\n",
    "\n",
    "#Add layers to each new DAG\n",
    "for i, layer in enumerate(layers):\n",
    "    if i < split_point:\n",
    "        dag1.compose(layer['graph'])\n",
    "    else:\n",
    "        dag2.compose(layer['graph'])\n",
    "\n",
    "#Convert DAGs back to circuits\n",
    "qc1 = dag_to_circuit(dag1)\n",
    "qc2 = dag_to_circuit(dag2)\n",
    "\n",
    "#Show results\n",
    "print(\"First half:\")\n",
    "qc1.draw()\n",
    "print(\"Second half:\")\n",
    "print(qc2)"
   ]
  },
  {
   "cell_type": "code",
   "execution_count": null,
   "metadata": {},
   "outputs": [],
   "source": [
    "qc1.measure_all() # remove measurements to get the full state\n",
    "\n",
    "# Create an Aer simulator configured for MPS simulation\n",
    "simulator = AerSimulator(method=\"matrix_product_state\",\n",
    "                         matrix_product_state_max_bond_dimension=4, matrix_product_state_truncation_threshold=0.3, shots=10000000)\n",
    "\n",
    "\n",
    "# tcirc=transpile(qc, simulator)\n",
    "# # Execute the circuit on the qasm simulator\n",
    "result = simulator.run(qc).result()\n"
   ]
  }
 ],
 "metadata": {
  "kernelspec": {
   "display_name": "yalehack",
   "language": "python",
   "name": "python3"
  },
  "language_info": {
   "codemirror_mode": {
    "name": "ipython",
    "version": 3
   },
   "file_extension": ".py",
   "mimetype": "text/x-python",
   "name": "python",
   "nbconvert_exporter": "python",
   "pygments_lexer": "ipython3",
   "version": "3.13.2"
  }
 },
 "nbformat": 4,
 "nbformat_minor": 2
}
