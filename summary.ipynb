{
 "cells": [
  {
   "cell_type": "code",
   "execution_count": null,
   "id": "47388cbc-9a2d-4ab4-91ab-5a92767ecf1a",
   "metadata": {},
   "outputs": [],
   "source": [
    "import bluequbit\n",
    "from qiskit import QuantumCircuit"
   ]
  },
  {
   "cell_type": "code",
   "execution_count": null,
   "id": "55d6e2d7-6d0e-47aa-a966-d76fde0dadf4",
   "metadata": {},
   "outputs": [],
   "source": [
    "API_KEY = \"your-token\""
   ]
  },
  {
   "cell_type": "code",
   "execution_count": null,
   "id": "ec34daa2-64b4-4fba-ad3a-34ffee66efae",
   "metadata": {},
   "outputs": [],
   "source": [
    "# Challenge 1 - 4 qubit\n",
    "# Simply run the QASM circuit obtained from the file on bluequbit's CPU\n",
    "# From the results obtained, select the bitstring with highest frequency\n",
    "\n",
    "qc = QuantumCircuit.from_qasm_file('P1_little_peak.qasm')\n",
    "print(result.get_counts())\n",
    "\n",
    "qc.measure_all()\n",
    "\n",
    "bq = bluequbit.init(API_KEY)\n",
    "result = bq.run(qc, device='cpu', shots = 1000)"
   ]
  },
  {
   "cell_type": "code",
   "execution_count": null,
   "id": "68df0caf-c923-4542-ad43-b7c554a02325",
   "metadata": {},
   "outputs": [],
   "source": [
    "# Challenge 2 - 28 qubit\n",
    "# Similar to 1, run the QASM circuit obtained from the file on bluequbit's CPU\n",
    "# From the results obtained, select the bitstring with highest frequency\n",
    "\n",
    "qc = QuantumCircuit.from_qasm_file('P2_swift_rise.qasm')\n",
    "\n",
    "qc.measure_all()\n",
    "\n",
    "bq = bluequbit.init(API_KEY)\n",
    "result = bq.run(qc, device='cpu', shots = 1000)\n",
    "\n",
    "cts = result.get_counts()\n",
    "print(max(cts, key = cts.get))"
   ]
  },
  {
   "cell_type": "code",
   "execution_count": null,
   "id": "3145b5d3-e2fa-4ff2-bc0f-fa183f4d53e6",
   "metadata": {},
   "outputs": [],
   "source": [
    "# Challenge 3 - 44 qubit\n",
    "# Use the QASM circuit, and run it on bluequbit's mps.cpu\n",
    "# running it on cpu does not work because it only supports qubit count upto 35\n",
    "# Since the search space for the bitstrings increases, it is required that the\n",
    "# number of shots is increased\n",
    "# The maximum number of shots is 2 ** 17, so 100_000 was chosen\n",
    "\n",
    "qc = QuantumCircuit.from_qasm_file('P3__sharp_peak.qasm')\n",
    "\n",
    "qc.measure_all()\n",
    "\n",
    "bq = bluequbit.init(API_KEY)\n",
    "\n",
    "result = bq.run(qc, device='mps.cpu', shots = 100_000)"
   ]
  },
  {
   "cell_type": "code",
   "execution_count": null,
   "id": "a76daea1-def3-40df-a988-b445639f3bc7",
   "metadata": {},
   "outputs": [],
   "source": [
    "# Challenge 4 - 48 qubit\n",
    "# For this challenge, it was found that using mps.cpu is not enough\n",
    "# The number of two-qubit gates were more than 1000, and this is not\n",
    "# supported by mps.cpu\n",
    "# To overcome this, we tried using QuantumRings simulator which\n",
    "# supports simulation of upto 200 qubits on a 32/64 GB machine\n",
    "# However, even their simulator failed to provide an output within\n",
    "# reasonable time of the hackathon\n",
    "# This is mainly because of the number of gate operations being carried out\n",
    "# Thus, this approach was unsuccessful for challenge 4\n",
    "# and successful for challenge 3\n",
    "\n",
    "import QuantumRingsLib\n",
    "from QuantumRingsLib import QuantumRingsProvider\n",
    "from quantumrings.toolkit.qiskit import QrBackendV2\n",
    "from quantumrings.toolkit.qiskit import QrJobV1\n",
    "\n",
    "provider = QuantumRingsProvider(\n",
    "               token = \"your-token\",\n",
    "               name = \"your-email\"\n",
    "              )\n",
    "\n",
    "qc = QuantumCircuit.from_qasm_file('P4_golden_mountain.qasm') # unsuccessful\n",
    "#qc = QuantumCircuit.from_qasm_file('P3__sharp_peak.qasm') # successful\n",
    "\n",
    "mybackend = QrBackendV2(provider, num_qubits = qc.num_qubits)\n",
    "qc_transpiled = transpile(qc, mybackend,\n",
    "                          initial_layout=list(range(0, qc.num_qubits))\n",
    "                         )\n",
    "print(\"here\")\n",
    "job = mybackend.run(qc_transpiled, shots = 100_000)\n",
    "result = job.result()"
   ]
  }
 ],
 "metadata": {
  "kernelspec": {
   "display_name": "Python 3 (ipykernel)",
   "language": "python",
   "name": "python3"
  },
  "language_info": {
   "codemirror_mode": {
    "name": "ipython",
    "version": 3
   },
   "file_extension": ".py",
   "mimetype": "text/x-python",
   "name": "python",
   "nbconvert_exporter": "python",
   "pygments_lexer": "ipython3",
   "version": "3.12.6"
  }
 },
 "nbformat": 4,
 "nbformat_minor": 5
}
